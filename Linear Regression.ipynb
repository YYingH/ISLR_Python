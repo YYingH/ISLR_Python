{
 "cells": [
  {
   "cell_type": "markdown",
   "metadata": {},
   "source": [
    "## 1. Linear Regression\n",
    "\n",
    "Loss function：\n",
    "$$L(w) = \\frac{1}{2M}\\sum_{i=1}^{m}(y-x_iw)^2$$\n",
    "\n",
    "闭解式：$W=(X^TX)^{-1}X^TY$\n",
    "    \n",
    "如果 $X^TX$ 没有逆矩阵， 则不能使用这种方法，可以采用梯度下降等优化方法求近似解\n",
    "\n",
    "## 2. Ridge regression\n",
    "\n",
    "add regularization for linear regression\n",
    "\n",
    "Loss function:\n",
    "$$L(w) = \\frac{1}{2m}\\sum_{i=1}^{m}(y-x_iw)^2 + \\lambda\\sum_{i=1}^{n}w_{i}^2$$\n",
    "\n",
    "闭解式：$W = (X^TX + \\lambda{I})^{-1}X^TY$\n",
    "    \n",
    "## 3. Lasso regression\n",
    "\n",
    "add l1 regularization\n",
    "\n",
    "Loss function:\n",
    "\n",
    "$$L(w) = \\frac{1}{2m}\\sum_{i=1}^{m}(y-x_iw)^2 + \\lambda \\sum_{i=1}^{n}\\left | w_i \\right |$$\n",
    "\n",
    "这里不能采用闭解式， 可以采用向前逐步回归。\n",
    "\n",
    "## 4. 局部加权线性回归\n",
    "\n",
    "给待测点附近等每个点赋予一定的权重。\n",
    "\n",
    "损失函数：\n",
    "\n",
    "$$L(\\theta ) = \\frac{1}{2M}\\sum_{i=1}^{m}w_i(y-x_i\\theta)^2$$\n",
    "\n",
    "其中， $w_i$表示第i个样本的权重。\n",
    "\n",
    "局部加权线性回归使用“核”来对附近对点赋予更高的权重。核的类型可以自由选择，最常用的核就是高斯核，高斯核对应的权重如下：\n",
    "\n",
    "$$exp(\\frac{\\left | w_i-x \\right |}{-2k^2})$$\n",
    "\n",
    "这样就有一个只含对角元素的权重矩阵W，并且点$x_i$与x越近，$w_i$也会越大。这里的参数k决定了对附近的点赋予多大的权重，这也是唯一需要考虑的参数。\n",
    "\n",
    "当k越大，有越多的点被用于训练回归模型；\n",
    "当k越小，有越少的点用于训练回归模型。"
   ]
  },
  {
   "cell_type": "code",
   "execution_count": 1,
   "metadata": {},
   "outputs": [],
   "source": [
    "import numpy as np\n",
    "from numpy.linalg import det\n",
    "from numpy.linalg import inv\n",
    "from numpy import mat\n",
    "from numpy import random\n",
    "import matplotlib.pyplot as plt\n",
    "import pandas as pd"
   ]
  },
  {
   "cell_type": "code",
   "execution_count": 43,
   "metadata": {},
   "outputs": [
    {
     "name": "stdout",
     "output_type": "stream",
     "text": [
      "[[ 0.00030751 -0.0061091 ]\n",
      " [-0.0061091   0.13629137]]\n",
      "[[6.38407183]]\n"
     ]
    },
    {
     "data": {
      "image/png": "[encoded data removed]",
      "text/plain": [
       "<Figure size 432x288 with 1 Axes>"
      ]
     },
     "metadata": {
      "needs_background": "light"
     },
     "output_type": "display_data"
    }
   ],
   "source": [
    "class LinearRegression:\n",
    "    def __init__(self):\n",
    "        pass\n",
    "    \n",
    "    def train(self, x_train, y_train):\n",
    "        x_mat = mat(x_train).T #67x1\n",
    "        y_mat = mat(y_train).T #67x1\n",
    "        [m,n] = x_mat.shape #67 1\n",
    "        x_mat = np.hstack((x_mat, mat(np.ones((m, 1))))) #67x2\n",
    "        self.weight = mat(random.rand(n+1,1)) # 2x1\n",
    "        if det(x_mat.T*x_mat) == 0:\n",
    "            print('the det of xTx is equal to zero')\n",
    "            return\n",
    "        else:\n",
    "            print(inv(x_mat.T*x_mat))\n",
    "            self.weight = inv(x_mat.T*x_mat)*x_mat.T*y_mat\n",
    "        return self.weight\n",
    "\n",
    "    def lr_predict(self, x_test):\n",
    "        m = len(x_test)\n",
    "        x_mat = np.hstack((mat(x_test).T, np.ones((m,1))))\n",
    "        return x_mat * self.weight\n",
    "    \n",
    "    def plot_lr(self, x_train, y_train):\n",
    "        x_min = x_train.min()\n",
    "        x_max = x_train.max()\n",
    "        y_min = self.weight[0] * x_min + self.weight[1]\n",
    "        y_max = self.weight[0] * x_max + self.weight[1]\n",
    "        plt.scatter(x_train, y_train)\n",
    "        plt.plot([x_min, x_max], [y_min[0,0], y_max[0,0]],'-g')\n",
    "        plt.show()\n",
    "        \n",
    "\n",
    "def main():\n",
    "    data = pd.read_csv('Data/Regression.csv')\n",
    "    x_train = data['x'].values\n",
    "    y_train = data['y'].values\n",
    "    regression = LinearRegression()\n",
    "    regression.train(x_train, y_train)\n",
    "    y_predict = regression.lr_predict(x_train)\n",
    "    regression.plot_lr(x_train, y_train)\n",
    "main()"
   ]
  },
  {
   "cell_type": "code",
   "execution_count": 34,
   "metadata": {},
   "outputs": [
    {
     "name": "stdout",
     "output_type": "stream",
     "text": [
      "67\n"
     ]
    }
   ],
   "source": [
    "data = pd.read_csv('Data/Regression.csv')\n",
    "x_train = data['x'].values\n",
    "y_train = data['y'].values\n",
    "print(len(x_train))"
   ]
  },
  {
   "cell_type": "code",
   "execution_count": null,
   "metadata": {},
   "outputs": [],
   "source": []
  },
  {
   "cell_type": "code",
   "execution_count": null,
   "metadata": {},
   "outputs": [],
   "source": []
  },
  {
   "cell_type": "code",
   "execution_count": null,
   "metadata": {},
   "outputs": [],
   "source": []
  },
  {
   "cell_type": "code",
   "execution_count": null,
   "metadata": {},
   "outputs": [],
   "source": []
  },
  {
   "cell_type": "code",
   "execution_count": null,
   "metadata": {},
   "outputs": [],
   "source": []
  },
  {
   "cell_type": "code",
   "execution_count": null,
   "metadata": {},
   "outputs": [],
   "source": []
  },
  {
   "cell_type": "code",
   "execution_count": null,
   "metadata": {},
   "outputs": [],
   "source": []
  },
  {
   "cell_type": "code",
   "execution_count": null,
   "metadata": {},
   "outputs": [],
   "source": []
  },
  {
   "cell_type": "code",
   "execution_count": null,
   "metadata": {},
   "outputs": [],
   "source": []
  },
  {
   "cell_type": "code",
   "execution_count": null,
   "metadata": {},
   "outputs": [],
   "source": []
  },
  {
   "cell_type": "code",
   "execution_count": null,
   "metadata": {},
   "outputs": [],
   "source": []
  },
  {
   "cell_type": "code",
   "execution_count": null,
   "metadata": {},
   "outputs": [],
   "source": []
  }
 ],
 "metadata": {
  "kernelspec": {
   "display_name": "ISLR_Python",
   "language": "python",
   "name": "islr_python"
  },
  "language_info": {
   "codemirror_mode": {
    "name": "ipython",
    "version": 3
   },
   "file_extension": ".py",
   "mimetype": "text/x-python",
   "name": "python",
   "nbconvert_exporter": "python",
   "pygments_lexer": "ipython3",
   "version": "3.7.4"
  }
 },
 "nbformat": 4,
 "nbformat_minor": 2
}
